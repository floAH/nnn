{
 "cells": [
  {
   "cell_type": "markdown",
   "metadata": {},
   "source": [
    "# Voracious Caterpillers\n",
    "\n",
    "\n",
    "The data set butterfly.csv includes variables: \n",
    "\n",
    "weight = weight of caterpillar in grams\n",
    "\n",
    "\n",
    "food = weight of food consumed in grams/day\n",
    "\n",
    "\n",
    "activeFeeding = categorical variable for whether the caterpillar was actively feeding at the time of measurement\n"
   ]
  },
  {
   "cell_type": "code",
   "execution_count": null,
   "metadata": {},
   "outputs": [],
   "source": [
    "#import data and list the first few observations\n",
    "df.cat = read.csv(file = \"butterfly.csv\")\n",
    "head(df.cat)"
   ]
  },
  {
   "cell_type": "code",
   "execution_count": null,
   "metadata": {},
   "outputs": [],
   "source": [
    "# regression with x=weight and y=food.\n",
    "cat.lm = lm(df.cat$food ~ df.cat$weight)\n",
    "\n",
    "# Scatter plot with lines\n",
    "plot(x=df.cat$weight, y=df.cat$food, main=\"Food Consumption (g/day) versus Weight (g)\", \n",
    "     ylab=\"Food Intake (g/day)\", xlab=\"Weight (g)\", cex.main = 1.5, \n",
    "     cex.lab = 1.25, cex.axis = 1.1)\n",
    "abline(cat.lm, col=\"red\") # this makes the regression line using the object output by lm()\n",
    "lines(lowess(df.cat$weight, df.cat$food), col='blue', lwd=2)\n"
   ]
  },
  {
   "cell_type": "code",
   "execution_count": null,
   "metadata": {},
   "outputs": [],
   "source": [
    "\n",
    "# standardized residual plot\n",
    "cat.rstand=rstandard(cat.lm) #obtain residuals\n",
    "cat.pred = predict(cat.lm)  #obtain predicted\n",
    "\n",
    "plot(cat.pred, cat.rstand, \n",
    "     main=\"Residual Plot for Food Consumption versus Weight \\n using Standardized Residuals\",\n",
    "      xlab=\"Predicted Values\", ylab=\"Standardized Residuals\", cex.main = 1.3, cex.lab = 1.25)\n",
    "abline(h=0, col=\"red\", lwd=2)\n",
    "abline(h = 2 , col=\"blue\", lty=2)\n",
    "abline(h = -2, col=\"blue\", lty=2)\n",
    "lines(lowess(cat.pred, cat.rstand), col='blue', lwd=2)\n"
   ]
  },
  {
   "cell_type": "code",
   "execution_count": null,
   "metadata": {},
   "outputs": [],
   "source": [
    "# Normal Probability Plot:  standardized residuals versus standard Normal scores\n",
    "qqnorm(cat.rstand, ylab=\"Standardized residuals\", xlab=\"Normal Scores\", \n",
    "       main=\"Normal Probability Plot for Food Consumption versus Weight\", \n",
    "       cex.main = 1.5, cex.axis = 1.1, cex.lab = 1.25)\n",
    "qqline(cat.rstand)\n",
    "\n",
    "# Histogram of standardized residuals\n",
    "hist(cat.rstand, main = \"Standardized Residuals for \\nFood Consumption versus Weight\", \n",
    "     xlab = \"Standardized Residuals\", \n",
    "     ylab = \"#Caterpillars\",  cex.main = 1.5, cex.axis = 1.1, cex.lab = 1.25)"
   ]
  },
  {
   "cell_type": "code",
   "execution_count": null,
   "metadata": {},
   "outputs": [],
   "source": [
    "# Here I add the log-transformed variables to the data set. \n",
    "# You are on your own from here.\n",
    "df.cat$logweight = log(df.cat$weight)\n",
    "df.cat$logfood = log(df.cat$food)\n",
    "print(\"partial listing of data with transformed variables\")\n",
    "head(df.cat)\n",
    "\n"
   ]
  },
  {
   "cell_type": "code",
   "execution_count": null,
   "metadata": {},
   "outputs": [],
   "source": []
  }
 ],
 "metadata": {
  "kernelspec": {
   "display_name": "R",
   "language": "R",
   "name": "ir"
  },
  "language_info": {
   "codemirror_mode": "r",
   "file_extension": ".r",
   "mimetype": "text/x-r-source",
   "name": "R",
   "pygments_lexer": "r",
   "version": "3.4.2"
  }
 },
 "nbformat": 4,
 "nbformat_minor": 2
}
